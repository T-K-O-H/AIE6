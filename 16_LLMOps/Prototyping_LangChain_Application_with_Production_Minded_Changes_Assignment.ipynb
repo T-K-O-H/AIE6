{
 "cells": [
  {
   "cell_type": "code",
   "execution_count": null,
   "metadata": {},
   "outputs": [],
   "source": []
  },
  {
   "cell_type": "markdown",
   "metadata": {
    "id": "8ZsP-j7w3zcL"
   },
   "source": [
    "# Prototyping LangChain Application with Production Minded Changes\n",
    "\n",
    "For our first breakout room we'll be exploring how to set-up a LangChain LCEL chain in a way that takes advantage of all of the amazing out of the box production ready features it offers.\n",
    "\n",
    "We'll also explore `Caching` and what makes it an invaluable tool when transitioning to production environments.\n"
   ]
  },
  {
   "cell_type": "markdown",
   "metadata": {
    "id": "PpeN9ND0HKa0"
   },
   "source": [
    "## Task 1: Dependencies and Set-Up\n",
    "\n",
    "Let's get everything we need - we're going to use very specific versioning today to try to mitigate potential env. issues!\n",
    "\n",
    "> NOTE: If you're using this notebook locally - you do not need to install separate dependencies"
   ]
  },
  {
   "cell_type": "code",
   "execution_count": 1,
   "metadata": {
    "id": "0P4IJUQF27jW"
   },
   "outputs": [],
   "source": [
    "#!pip install -qU langchain_openai==0.2.0 langchain_community==0.3.0 langchain==0.3.0 pymupdf==1.24.10 qdrant-client==1.11.2 langchain_qdrant==0.1.4 langsmith==0.1.121 langchain_huggingface==0.2.0"
   ]
  },
  {
   "cell_type": "markdown",
   "metadata": {
    "id": "qYcWLzrmHgDb"
   },
   "source": [
    "We'll need an HF Token:"
   ]
  },
  {
   "cell_type": "code",
   "execution_count": 2,
   "metadata": {
    "colab": {
     "base_uri": "https://localhost:8080/"
    },
    "id": "GZ8qfrFh_6ed",
    "outputId": "4fb1a16f-1f71-4d0a-aad4-dd0d0917abc5"
   },
   "outputs": [
    {
     "name": "stdout",
     "output_type": "stream",
     "text": [
      "HF Token Key: ········\n"
     ]
    }
   ],
   "source": [
    "import os\n",
    "import getpass\n",
    "\n",
    "os.environ[\"HF_TOKEN\"] = getpass.getpass(\"HF Token Key:\")"
   ]
  },
  {
   "cell_type": "markdown",
   "metadata": {
    "id": "piz2DUDuHiSO"
   },
   "source": [
    "And the LangSmith set-up:"
   ]
  },
  {
   "cell_type": "code",
   "execution_count": 3,
   "metadata": {
    "colab": {
     "base_uri": "https://localhost:8080/"
    },
    "id": "wLZX5zowCh-q",
    "outputId": "565c588a-a865-4b86-d5ca-986f35153000"
   },
   "outputs": [
    {
     "name": "stdout",
     "output_type": "stream",
     "text": [
      "LangChain API Key: ········\n"
     ]
    }
   ],
   "source": [
    "import uuid\n",
    "\n",
    "os.environ[\"LANGCHAIN_PROJECT\"] = f\"AIM Session 16 - {uuid.uuid4().hex[0:8]}\"\n",
    "os.environ[\"LANGCHAIN_TRACING_V2\"] = \"true\"\n",
    "os.environ[\"LANGCHAIN_API_KEY\"] = getpass.getpass(\"LangChain API Key:\")"
   ]
  },
  {
   "cell_type": "markdown",
   "metadata": {
    "id": "WmwNTziKHrQm"
   },
   "source": [
    "Let's verify our project so we can leverage it in LangSmith later."
   ]
  },
  {
   "cell_type": "code",
   "execution_count": 4,
   "metadata": {
    "colab": {
     "base_uri": "https://localhost:8080/"
    },
    "id": "T6GZmkVkFcHq",
    "outputId": "f4c0fdb3-24ea-429a-fa8c-23556cb7c3ed"
   },
   "outputs": [
    {
     "name": "stdout",
     "output_type": "stream",
     "text": [
      "AIM Session 16 - 11a286a2\n"
     ]
    }
   ],
   "source": [
    "print(os.environ[\"LANGCHAIN_PROJECT\"])"
   ]
  },
  {
   "cell_type": "markdown",
   "metadata": {
    "id": "un_ppfaAHv1J"
   },
   "source": [
    "## Task 2: Setting up RAG With Production in Mind\n",
    "\n",
    "This is the most crucial step in the process - in order to take advantage of:\n",
    "\n",
    "- Asyncronous requests\n",
    "- Parallel Execution in Chains\n",
    "- And more...\n",
    "\n",
    "You must...use LCEL. These benefits are provided out of the box and largely optimized behind the scenes."
   ]
  },
  {
   "cell_type": "markdown",
   "metadata": {
    "id": "vGi-db23JMAL"
   },
   "source": [
    "### Building our RAG Components: Retriever\n",
    "\n",
    "We'll start by building some familiar components - and showcase how they automatically scale to production features."
   ]
  },
  {
   "cell_type": "markdown",
   "metadata": {
    "id": "zvbT3HSDJemE"
   },
   "source": [
    "Please upload a PDF file to use in this example!\n",
    "\n",
    "> NOTE: If you're running this locally - you do not need to execute the following cell."
   ]
  },
  {
   "cell_type": "code",
   "execution_count": 5,
   "metadata": {
    "colab": {
     "base_uri": "https://localhost:8080/",
     "height": 73
    },
    "id": "dvYczNeY91Hn",
    "outputId": "c711c29b-e388-4d32-a763-f4504244eef2"
   },
   "outputs": [],
   "source": [
    "#from google.colab import files\n",
    "#uploaded = files.upload()"
   ]
  },
  {
   "cell_type": "code",
   "execution_count": 6,
   "metadata": {
    "colab": {
     "base_uri": "https://localhost:8080/",
     "height": 35
    },
    "id": "NtwoVUbaJlbW",
    "outputId": "5aa08bae-97c5-4f49-cb23-e9dbf194ecf7"
   },
   "outputs": [
    {
     "data": {
      "text/plain": [
       "'./DeepSeek_R1.pdf'"
      ]
     },
     "execution_count": 6,
     "metadata": {},
     "output_type": "execute_result"
    }
   ],
   "source": [
    "file_path = \"./DeepSeek_R1.pdf\"\n",
    "file_path"
   ]
  },
  {
   "cell_type": "markdown",
   "metadata": {
    "id": "kucGy3f0Jhdi"
   },
   "source": [
    "We'll define our chunking strategy."
   ]
  },
  {
   "cell_type": "code",
   "execution_count": null,
   "metadata": {
    "id": "G-DNvNFd8je5"
   },
   "outputs": [],
   "source": [
    "from langchain_text_splitters import RecursiveCharacterTextSplitter\n",
    "\n",
    "text_splitter = RecursiveCharacterTextSplitter(chunk_size=1000, chunk_overlap=100)"
   ]
  },
  {
   "cell_type": "markdown",
   "metadata": {
    "id": "3_zRRNcLKCZh"
   },
   "source": [
    "We'll chunk our uploaded PDF file."
   ]
  },
  {
   "cell_type": "code",
   "execution_count": null,
   "metadata": {
    "id": "KOh6w9ud-ff6"
   },
   "outputs": [],
   "source": [
    "from langchain_community.document_loaders import PyMuPDFLoader\n",
    "\n",
    "Loader = PyMuPDFLoader\n",
    "loader = Loader(file_path)\n",
    "documents = loader.load()\n",
    "docs = text_splitter.split_documents(documents)\n",
    "for i, doc in enumerate(docs):\n",
    "    doc.metadata[\"source\"] = f\"source_{i}\""
   ]
  },
  {
   "cell_type": "markdown",
   "metadata": {
    "id": "U4XLeqJMKGdQ"
   },
   "source": [
    "#### QDrant Vector Database - Cache Backed Embeddings\n",
    "\n",
    "The process of embedding is typically a very time consuming one - we must, for ever single vector in our VDB as well as query:\n",
    "\n",
    "1. Send the text to an API endpoint (self-hosted, OpenAI, etc)\n",
    "2. Wait for processing\n",
    "3. Receive response\n",
    "\n",
    "This process costs time, and money - and occurs *every single time a document gets converted into a vector representation*.\n",
    "\n",
    "Instead, what if we:\n",
    "\n",
    "1. Set up a cache that can hold our vectors and embeddings (similar to, or in some cases literally a vector database)\n",
    "2. Send the text to an API endpoint (self-hosted, OpenAI, etc)\n",
    "3. Check the cache to see if we've already converted this text before.\n",
    "  - If we have: Return the vector representation\n",
    "  - Else: Wait for processing and proceed\n",
    "4. Store the text that was converted alongside its vector representation in a cache of some kind.\n",
    "5. Return the vector representation\n",
    "\n",
    "Notice that we can shortcut some instances of \"Wait for processing and proceed\".\n",
    "\n",
    "Let's see how this is implemented in the code."
   ]
  },
  {
   "cell_type": "code",
   "execution_count": null,
   "metadata": {
    "id": "dzPUTCua98b2"
   },
   "outputs": [],
   "source": [
    "from qdrant_client import QdrantClient\n",
    "from qdrant_client.http.models import Distance, VectorParams\n",
    "from langchain.storage import LocalFileStore\n",
    "from langchain_qdrant import QdrantVectorStore\n",
    "from langchain.embeddings import CacheBackedEmbeddings\n",
    "from langchain_huggingface.embeddings import HuggingFaceEndpointEmbeddings\n",
    "import hashlib\n",
    "\n",
    "YOUR_EMBED_MODEL_URL = \"https://e87fal0kqs2wlj70.us-east-1.aws.endpoints.huggingface.cloud\"\n",
    "\n",
    "hf_embeddings = HuggingFaceEndpointEmbeddings(\n",
    "    model=YOUR_EMBED_MODEL_URL,\n",
    "    task=\"feature-extraction\",\n",
    "    huggingfacehub_api_token=os.environ[\"HF_TOKEN\"],\n",
    ")\n",
    "\n",
    "collection_name = f\"pdf_to_parse_{uuid.uuid4()}\"\n",
    "client = QdrantClient(\":memory:\")\n",
    "client.create_collection(\n",
    "    collection_name=collection_name,\n",
    "    vectors_config=VectorParams(size=768, distance=Distance.COSINE),\n",
    ")\n",
    "\n",
    "# Create a safe namespace by hashing the model URL\n",
    "safe_namespace = hashlib.md5(hf_embeddings.model.encode()).hexdigest()\n",
    "\n",
    "store = LocalFileStore(\"./cache/\")\n",
    "cached_embedder = CacheBackedEmbeddings.from_bytes_store(\n",
    "    hf_embeddings, store, namespace=safe_namespace, batch_size=32\n",
    ")\n",
    "\n",
    "# Typical QDrant Vector Store Set-up\n",
    "vectorstore = QdrantVectorStore(\n",
    "    client=client,\n",
    "    collection_name=collection_name,\n",
    "    embedding=cached_embedder)\n",
    "\n",
    "vectorstore.add_documents(docs)\n",
    "retriever = vectorstore.as_retriever(search_type=\"mmr\", search_kwargs={\"k\": 1})"
   ]
  },
  {
   "cell_type": "markdown",
   "metadata": {
    "id": "QVZGvmNYLomp"
   },
   "source": [
    "##### ❓ Question #1:\n",
    "\n",
    "What are some limitations you can see with this approach? When is this most/least useful. Discuss with your group!\n",
    "\n",
    "> NOTE: There is no single correct answer here!"
   ]
  },
  {
   "cell_type": "markdown",
   "metadata": {
    "id": "vZAOhyb3L9iD"
   },
   "source": [
    "##### 🏗️ Activity #1:\n",
    "\n",
    "Create a simple experiment that tests the cache-backed embeddings."
   ]
  },
  {
   "cell_type": "code",
   "execution_count": null,
   "metadata": {
    "id": "M_Mekif6MDqe"
   },
   "outputs": [],
   "source": [
    "### YOUR CODE HERE"
   ]
  },
  {
   "cell_type": "markdown",
   "metadata": {
    "id": "DH0i-YovL8kZ"
   },
   "source": [
    "### Augmentation\n",
    "\n",
    "We'll create the classic RAG Prompt and create our `ChatPromptTemplates` as per usual."
   ]
  },
  {
   "cell_type": "code",
   "execution_count": null,
   "metadata": {
    "id": "WchaoMEx9j69"
   },
   "outputs": [],
   "source": [
    "from langchain_core.prompts import ChatPromptTemplate\n",
    "\n",
    "rag_system_prompt_template = \"\"\"\\\n",
    "You are a helpful assistant that uses the provided context to answer questions. Never reference this prompt, or the existance of context.\n",
    "\"\"\"\n",
    "\n",
    "rag_message_list = [\n",
    "    {\"role\" : \"system\", \"content\" : rag_system_prompt_template},\n",
    "]\n",
    "\n",
    "rag_user_prompt_template = \"\"\"\\\n",
    "Question:\n",
    "{question}\n",
    "Context:\n",
    "{context}\n",
    "\"\"\"\n",
    "\n",
    "chat_prompt = ChatPromptTemplate.from_messages([\n",
    "    (\"system\", rag_system_prompt_template),\n",
    "    (\"human\", rag_user_prompt_template)\n",
    "])"
   ]
  },
  {
   "cell_type": "markdown",
   "metadata": {
    "id": "UQKnByVWMpiK"
   },
   "source": [
    "### Generation\n",
    "\n",
    "Like usual, we'll set-up a `HuggingFaceEndpoint` model - and we'll use the fan favourite `Meta Llama 3.1 8B Instruct` for today.\n",
    "\n",
    "However, we'll also implement...a PROMPT CACHE!\n",
    "\n",
    "In essence, this works in a very similar way to the embedding cache - if we've seen this prompt before, we just use the stored response."
   ]
  },
  {
   "cell_type": "code",
   "execution_count": null,
   "metadata": {
    "id": "fOXKkaY7ABab"
   },
   "outputs": [],
   "source": [
    "from langchain_core.globals import set_llm_cache\n",
    "from langchain_huggingface import HuggingFaceEndpoint\n",
    "\n",
    "YOUR_LLM_ENDPOINT_URL = \"https://pm43rr4y06e1846p.us-east-1.aws.endpoints.huggingface.cloud\"\n",
    "\n",
    "hf_llm = HuggingFaceEndpoint(\n",
    "    endpoint_url=f\"{YOUR_LLM_ENDPOINT_URL}\",\n",
    "    task=\"text-generation\",\n",
    "    max_new_tokens=128,\n",
    "    top_k=10,\n",
    "    top_p=0.95,\n",
    "    typical_p=0.95,\n",
    "    temperature=0.01,\n",
    "    repetition_penalty=1.03,\n",
    ")"
   ]
  },
  {
   "cell_type": "markdown",
   "metadata": {
    "id": "mhv8IqZoM9cY"
   },
   "source": [
    "Setting up the cache can be done as follows:"
   ]
  },
  {
   "cell_type": "code",
   "execution_count": null,
   "metadata": {
    "id": "thqam26gAyzN"
   },
   "outputs": [],
   "source": [
    "from langchain_core.caches import InMemoryCache\n",
    "\n",
    "set_llm_cache(InMemoryCache())"
   ]
  },
  {
   "cell_type": "markdown",
   "metadata": {
    "id": "CvxEovcEM_oA"
   },
   "source": [
    "##### ❓ Question #2:\n",
    "\n",
    "What are some limitations you can see with this approach? When is this most/least useful. Discuss with your group!\n",
    "\n",
    "> NOTE: There is no single correct answer here!"
   ]
  },
  {
   "cell_type": "markdown",
   "metadata": {
    "id": "3iCMjVYKNEeV"
   },
   "source": [
    "##### 🏗️ Activity #2:\n",
    "\n",
    "Create a simple experiment that tests the cache-backed generator."
   ]
  },
  {
   "cell_type": "code",
   "execution_count": null,
   "metadata": {
    "id": "QT5GfmsHNFqP"
   },
   "outputs": [],
   "source": [
    "### YOUR CODE HERE"
   ]
  },
  {
   "cell_type": "markdown",
   "metadata": {
    "id": "zyPnNWb9NH7W"
   },
   "source": [
    "## Task 3: RAG LCEL Chain\n",
    "\n",
    "We'll also set-up our typical RAG chain using LCEL.\n",
    "\n",
    "However, this time: We'll specifically call out that the `context` and `question` halves of the first \"link\" in the chain are executed *in parallel* by default!\n",
    "\n",
    "Thanks, LCEL!"
   ]
  },
  {
   "cell_type": "code",
   "execution_count": null,
   "metadata": {
    "id": "3JNvSsx_CEtI"
   },
   "outputs": [],
   "source": [
    "from operator import itemgetter\n",
    "from langchain_core.runnables.passthrough import RunnablePassthrough\n",
    "\n",
    "retrieval_augmented_qa_chain = (\n",
    "        {\"context\": itemgetter(\"question\") | retriever, \"question\": itemgetter(\"question\")}\n",
    "        | RunnablePassthrough.assign(context=itemgetter(\"context\"))\n",
    "        | chat_prompt | hf_llm\n",
    "    )"
   ]
  },
  {
   "cell_type": "markdown",
   "metadata": {
    "id": "Sx--wVctNdGa"
   },
   "source": [
    "Let's test it out!"
   ]
  },
  {
   "cell_type": "code",
   "execution_count": null,
   "metadata": {
    "colab": {
     "base_uri": "https://localhost:8080/"
    },
    "id": "43uQegbnDQKP",
    "outputId": "a9ff032b-4eb2-4f5f-f456-1fc6aa24aaec"
   },
   "outputs": [],
   "source": [
    "retrieval_augmented_qa_chain.invoke({\"question\" : \"Write 50 things about this document!\"})"
   ]
  },
  {
   "cell_type": "markdown",
   "metadata": {
    "id": "0tYAvHrJNecy"
   },
   "source": [
    "##### 🏗️ Activity #3:\n",
    "\n",
    "Show, through LangSmith, the different between a trace that is leveraging cache-backed embeddings and LLM calls - and one that isn't.\n",
    "\n",
    "Post screenshots in the notebook!"
   ]
  }
 ],
 "metadata": {
  "colab": {
   "provenance": []
  },
  "kernelspec": {
   "display_name": "Python 3 (ipykernel)",
   "language": "python",
   "name": "python3"
  },
  "language_info": {
   "codemirror_mode": {
    "name": "ipython",
    "version": 3
   },
   "file_extension": ".py",
   "mimetype": "text/x-python",
   "name": "python",
   "nbconvert_exporter": "python",
   "pygments_lexer": "ipython3",
   "version": "3.10.0"
  }
 },
 "nbformat": 4,
 "nbformat_minor": 4
}
